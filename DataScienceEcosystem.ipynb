{
  "metadata": {
    "kernelspec": {
      "name": "python",
      "display_name": "Python (Pyodide)",
      "language": "python"
    },
    "language_info": {
      "codemirror_mode": {
        "name": "python",
        "version": 3
      },
      "file_extension": ".py",
      "mimetype": "text/x-python",
      "name": "python",
      "nbconvert_exporter": "python",
      "pygments_lexer": "ipython3",
      "version": "3.8"
    }
  },
  "nbformat_minor": 4,
  "nbformat": 4,
  "cells": [
    {
      "cell_type": "markdown",
      "source": "# Data Science Tools and Ecosystem",
      "metadata": {}
    },
    {
      "cell_type": "markdown",
      "source": "![encabezado](https://www.edujournal.com/wp-content/uploads/2023/07/Data-Science-Tools-and-Technologies.jpg)",
      "metadata": {}
    },
    {
      "cell_type": "markdown",
      "source": "### In this notebook, Data Science Tools and Ecosystem are summarized.",
      "metadata": {}
    },
    {
      "cell_type": "markdown",
      "source": "#### Objetives\n\n* know the different categories of data science\n* list the different open source tools used in data science\n* list the different business tools used in data science\n* know the different models of artificial intelligence\n* learn to use development environments for data science such as Jupyter in a basic way",
      "metadata": {}
    },
    {
      "cell_type": "markdown",
      "source": "#### \n\n\n\nSome of the popular languages that Data Scientists use are:\n\n1. Python\n2. R\n3. Scala\n4. Java\n5. C++",
      "metadata": {}
    },
    {
      "cell_type": "markdown",
      "source": "#### Some of the commonly used libraries used by Data Scientists include:\n\n1. Pandas\n2. NumPy\n3. MatplotLib\n4. SearBorn",
      "metadata": {}
    },
    {
      "cell_type": "markdown",
      "source": "#### Data Science Tools\n\n|Data Science Categorie|Data Science Tools|\n|-------------------|--------------------|\n|Data Management | MySql, PostgreSQL, MongoDb, CouchDB|\n|Data Integartion and Transformation| Airflow, Kube Flow, NIFI, SaprkSQL, NodeRED|\n|Data Visualization | PixieDust, Hue, Kibana, SuperSet|\n|Model Deployment | ProductionIO, Seldon, Mleap|\n|Model Monitoring and Assessment | ModelDB, Prometheus, IBM AI fairness 360|\n|Code Assets Management| Git, GitHub, GitLab, BitBucket|\n|Data assets Management| ATLAS, ODPi egeria, Kgio|",
      "metadata": {}
    },
    {
      "cell_type": "markdown",
      "source": "#### Below are a few examples of evaluating arithmetic expressions in Python",
      "metadata": {}
    },
    {
      "cell_type": "code",
      "source": "x = 2\ny = 3\nz = (x + y) * 5\nprint(z)\n",
      "metadata": {
        "trusted": true
      },
      "outputs": [
        {
          "name": "stdout",
          "text": "25\n",
          "output_type": "stream"
        }
      ],
      "execution_count": 1
    },
    {
      "cell_type": "code",
      "source": "(3 * 4) + 5",
      "metadata": {
        "trusted": true
      },
      "outputs": [
        {
          "execution_count": 2,
          "output_type": "execute_result",
          "data": {
            "text/plain": "17"
          },
          "metadata": {}
        }
      ],
      "execution_count": 2
    },
    {
      "cell_type": "code",
      "source": "# his will convert 200 minutes to hours by diving by 60\n\nmin = 200\nhour = 60\n\nhours = min/hour\n\nprint(hours)",
      "metadata": {
        "trusted": true
      },
      "outputs": [
        {
          "name": "stdout",
          "text": "3.3333333333333335\n",
          "output_type": "stream"
        }
      ],
      "execution_count": 4
    },
    {
      "cell_type": "markdown",
      "source": "## Autor\nHéctor Hernández ",
      "metadata": {}
    },
    {
      "cell_type": "code",
      "source": "",
      "metadata": {
        "trusted": true
      },
      "outputs": [],
      "execution_count": null
    }
  ]
}